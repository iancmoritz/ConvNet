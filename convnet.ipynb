{
 "cells": [
  {
   "cell_type": "code",
   "execution_count": 1,
   "metadata": {},
   "outputs": [
    {
     "data": {
      "text/plain": [
       "'2.0.0'"
      ]
     },
     "execution_count": 1,
     "metadata": {},
     "output_type": "execute_result"
    }
   ],
   "source": [
    "import numpy as np\n",
    "import tensorflow as tf\n",
    "tf.__version__"
   ]
  },
  {
   "cell_type": "code",
   "execution_count": 2,
   "metadata": {},
   "outputs": [],
   "source": [
    "#PARAMETERS"
   ]
  },
  {
   "cell_type": "code",
   "execution_count": 3,
   "metadata": {
    "scrolled": true
   },
   "outputs": [
    {
     "name": "stdout",
     "output_type": "stream",
     "text": [
      "Found 54190 images belonging to 131 classes.\n",
      "Found 13502 images belonging to 131 classes.\n",
      "Found 22688 images belonging to 131 classes.\n"
     ]
    }
   ],
   "source": [
    "#PREPROCESSING\n",
    "from tensorflow.keras.preprocessing.image import ImageDataGenerator\n",
    "\n",
    "datagen = ImageDataGenerator(validation_split=0.2)\n",
    "##\n",
    "training_generator = datagen.flow_from_directory('data/training', target_size=(75, 75), batch_size=1000, shuffle=True, seed=42, subset='training')\n",
    "validation_generator = datagen.flow_from_directory('data/training', target_size=(75, 75), batch_size=1000, shuffle=True, seed=42, subset='validation')\n",
    "testing_generator = datagen.flow_from_directory('data/testing', target_size=(75, 75), batch_size=1000, shuffle=True, seed=42)"
   ]
  },
  {
   "cell_type": "code",
   "execution_count": 4,
   "metadata": {},
   "outputs": [],
   "source": [
    "#CREATE MODEL\n",
    "from tensorflow.keras.models import Sequential\n",
    "from tensorflow.keras.layers import Conv2D, MaxPooling2D, BatchNormalization, Dropout, Flatten, Dense\n",
    "\n",
    "model = Sequential()\n",
    "\n",
    "#Layer 1\n",
    "model.add(Conv2D(64, (3,3), strides=(1,1), activation=\"relu\"))\n",
    "\n",
    "#Layer 2 \n",
    "model.add(MaxPooling2D())\n",
    "\n",
    "#Layer 3\n",
    "model.add(Conv2D(128, (3,3), strides=(1,1), activation=\"relu\"))\n",
    "\n",
    "#Layer 4\n",
    "model.add(BatchNormalization())\n",
    "\n",
    "#Layer 5\n",
    "model.add(Dropout(0.3))\n",
    "\n",
    "#Layer 6\n",
    "model.add(MaxPooling2D())\n",
    "\n",
    "#Layer 7\n",
    "model.add(Flatten())\n",
    "\n",
    "#Layer 8\n",
    "model.add(Dense(256, activation=\"relu\"))\n",
    "\n",
    "#Layer 9\n",
    "model.add(Dense(131, activation=\"softmax\"))"
   ]
  },
  {
   "cell_type": "code",
   "execution_count": 7,
   "metadata": {},
   "outputs": [],
   "source": [
    "#COMPILE MODEL \n",
    "model.compile(loss=\"categorical_crossentropy\",\n",
    "              optimizer=\"adam\")"
   ]
  },
  {
   "cell_type": "code",
   "execution_count": null,
   "metadata": {},
   "outputs": [
    {
     "name": "stdout",
     "output_type": "stream",
     "text": [
      "Train for 54 steps, validate for 13 steps\n",
      "Epoch 1/50\n",
      "54/54 [==============================] - 1680s 31s/step - loss: 0.1848 - val_loss: 0.6925\n",
      "Epoch 2/50\n",
      "54/54 [==============================] - 1575s 29s/step - loss: 0.0039 - val_loss: 1.4740\n",
      "Epoch 3/50\n",
      "35/54 [==================>...........] - ETA: 13:17 - loss: 0.0020"
     ]
    }
   ],
   "source": [
    "model.fit(\n",
    "        training_generator,\n",
    "        steps_per_epoch=training_generator.samples // 1000, #batch_size,\n",
    "        epochs=50,\n",
    "        validation_data=validation_generator,\n",
    "        validation_steps=validation_generator.samples // 1000,\n",
    "        verbose=1)\n",
    "model.save_weights('first_try.h5')  # always save your weights after training or during training"
   ]
  },
  {
   "cell_type": "code",
   "execution_count": null,
   "metadata": {},
   "outputs": [],
   "source": []
  }
 ],
 "metadata": {
  "kernelspec": {
   "display_name": "Python 3",
   "language": "python",
   "name": "python3"
  },
  "language_info": {
   "codemirror_mode": {
    "name": "ipython",
    "version": 3
   },
   "file_extension": ".py",
   "mimetype": "text/x-python",
   "name": "python",
   "nbconvert_exporter": "python",
   "pygments_lexer": "ipython3",
   "version": "3.7.7"
  }
 },
 "nbformat": 4,
 "nbformat_minor": 4
}
